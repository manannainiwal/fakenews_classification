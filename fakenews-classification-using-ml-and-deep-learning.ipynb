{
 "cells": [
  {
   "cell_type": "markdown",
   "id": "prescription-indonesia",
   "metadata": {
    "papermill": {
     "duration": 0.027816,
     "end_time": "2021-04-24T06:09:26.668258",
     "exception": false,
     "start_time": "2021-04-24T06:09:26.640442",
     "status": "completed"
    },
    "tags": []
   },
   "source": [
    "**This is a NLP problem where the task is to classify Fake News in an article. This notebook consists of various stages needed for identifying fake news such as data preprocessing, model experimentation, and evaluation of results.**"
   ]
  },
  {
   "cell_type": "code",
   "execution_count": 1,
   "id": "employed-pontiac",
   "metadata": {
    "execution": {
     "iopub.execute_input": "2021-04-24T06:09:26.726536Z",
     "iopub.status.busy": "2021-04-24T06:09:26.724851Z",
     "iopub.status.idle": "2021-04-24T06:09:34.346956Z",
     "shell.execute_reply": "2021-04-24T06:09:34.346205Z"
    },
    "papermill": {
     "duration": 7.65274,
     "end_time": "2021-04-24T06:09:34.347142",
     "exception": false,
     "start_time": "2021-04-24T06:09:26.694402",
     "status": "completed"
    },
    "tags": []
   },
   "outputs": [
    {
     "name": "stderr",
     "output_type": "stream",
     "text": [
      "[nltk_data] Downloading package stopwords to\n",
      "[nltk_data]     C:\\Users\\DELL\\AppData\\Roaming\\nltk_data...\n",
      "[nltk_data]   Package stopwords is already up-to-date!\n"
     ]
    }
   ],
   "source": [
    "# Importing Libraries\n",
    "import pandas as pd\n",
    "import numpy as np\n",
    "import nltk\n",
    "import re\n",
    "from nltk.corpus import stopwords\n",
    "nltk.download('stopwords')\n",
    "from tensorflow.keras.layers import Embedding,Dropout\n",
    "from tensorflow.keras.preprocessing.sequence import pad_sequences\n",
    "from tensorflow.keras.models import Sequential\n",
    "from tensorflow.keras.preprocessing.text import one_hot\n",
    "from tensorflow.keras.layers import LSTM,Bidirectional,GRU\n",
    "from tensorflow.keras.layers import Dense\n",
    "from sklearn.metrics import classification_report,accuracy_score\n",
    "from sklearn.linear_model import LogisticRegression\n",
    "from sklearn.tree import DecisionTreeClassifier\n",
    "from sklearn.ensemble import RandomForestClassifier\n",
    "from xgboost import XGBClassifier\n",
    "from catboost import CatBoostClassifier\n",
    "from sklearn.linear_model import LogisticRegression\n",
    "from sklearn.naive_bayes import MultinomialNB"
   ]
  },
  {
   "cell_type": "code",
   "execution_count": 2,
   "id": "fitting-skating",
   "metadata": {
    "execution": {
     "iopub.execute_input": "2021-04-24T06:09:34.410517Z",
     "iopub.status.busy": "2021-04-24T06:09:34.409817Z",
     "iopub.status.idle": "2021-04-24T06:09:36.957933Z",
     "shell.execute_reply": "2021-04-24T06:09:36.956892Z"
    },
    "papermill": {
     "duration": 2.582685,
     "end_time": "2021-04-24T06:09:36.958105",
     "exception": false,
     "start_time": "2021-04-24T06:09:34.375420",
     "status": "completed"
    },
    "tags": []
   },
   "outputs": [
    {
     "data": {
      "text/html": [
       "<div>\n",
       "<style scoped>\n",
       "    .dataframe tbody tr th:only-of-type {\n",
       "        vertical-align: middle;\n",
       "    }\n",
       "\n",
       "    .dataframe tbody tr th {\n",
       "        vertical-align: top;\n",
       "    }\n",
       "\n",
       "    .dataframe thead th {\n",
       "        text-align: right;\n",
       "    }\n",
       "</style>\n",
       "<table border=\"1\" class=\"dataframe\">\n",
       "  <thead>\n",
       "    <tr style=\"text-align: right;\">\n",
       "      <th></th>\n",
       "      <th>id</th>\n",
       "      <th>title</th>\n",
       "      <th>author</th>\n",
       "      <th>text</th>\n",
       "      <th>label</th>\n",
       "    </tr>\n",
       "  </thead>\n",
       "  <tbody>\n",
       "    <tr>\n",
       "      <th>0</th>\n",
       "      <td>0</td>\n",
       "      <td>House Dem Aide: We Didn’t Even See Comey’s Let...</td>\n",
       "      <td>Darrell Lucus</td>\n",
       "      <td>House Dem Aide: We Didn’t Even See Comey’s Let...</td>\n",
       "      <td>1</td>\n",
       "    </tr>\n",
       "    <tr>\n",
       "      <th>1</th>\n",
       "      <td>1</td>\n",
       "      <td>FLYNN: Hillary Clinton, Big Woman on Campus - ...</td>\n",
       "      <td>Daniel J. Flynn</td>\n",
       "      <td>Ever get the feeling your life circles the rou...</td>\n",
       "      <td>0</td>\n",
       "    </tr>\n",
       "    <tr>\n",
       "      <th>2</th>\n",
       "      <td>2</td>\n",
       "      <td>Why the Truth Might Get You Fired</td>\n",
       "      <td>Consortiumnews.com</td>\n",
       "      <td>Why the Truth Might Get You Fired October 29, ...</td>\n",
       "      <td>1</td>\n",
       "    </tr>\n",
       "    <tr>\n",
       "      <th>3</th>\n",
       "      <td>3</td>\n",
       "      <td>15 Civilians Killed In Single US Airstrike Hav...</td>\n",
       "      <td>Jessica Purkiss</td>\n",
       "      <td>Videos 15 Civilians Killed In Single US Airstr...</td>\n",
       "      <td>1</td>\n",
       "    </tr>\n",
       "    <tr>\n",
       "      <th>4</th>\n",
       "      <td>4</td>\n",
       "      <td>Iranian woman jailed for fictional unpublished...</td>\n",
       "      <td>Howard Portnoy</td>\n",
       "      <td>Print \\nAn Iranian woman has been sentenced to...</td>\n",
       "      <td>1</td>\n",
       "    </tr>\n",
       "  </tbody>\n",
       "</table>\n",
       "</div>"
      ],
      "text/plain": [
       "   id                                              title              author  \\\n",
       "0   0  House Dem Aide: We Didn’t Even See Comey’s Let...       Darrell Lucus   \n",
       "1   1  FLYNN: Hillary Clinton, Big Woman on Campus - ...     Daniel J. Flynn   \n",
       "2   2                  Why the Truth Might Get You Fired  Consortiumnews.com   \n",
       "3   3  15 Civilians Killed In Single US Airstrike Hav...     Jessica Purkiss   \n",
       "4   4  Iranian woman jailed for fictional unpublished...      Howard Portnoy   \n",
       "\n",
       "                                                text  label  \n",
       "0  House Dem Aide: We Didn’t Even See Comey’s Let...      1  \n",
       "1  Ever get the feeling your life circles the rou...      0  \n",
       "2  Why the Truth Might Get You Fired October 29, ...      1  \n",
       "3  Videos 15 Civilians Killed In Single US Airstr...      1  \n",
       "4  Print \\nAn Iranian woman has been sentenced to...      1  "
      ]
     },
     "execution_count": 2,
     "metadata": {},
     "output_type": "execute_result"
    }
   ],
   "source": [
    "# Reading data from csv\n",
    "train = pd.read_csv(\"train.csv\")\n",
    "test  = pd.read_csv(\"test.csv\")\n",
    "train.head()"
   ]
  },
  {
   "cell_type": "code",
   "execution_count": 3,
   "id": "adjacent-emergency",
   "metadata": {
    "execution": {
     "iopub.execute_input": "2021-04-24T06:09:37.027386Z",
     "iopub.status.busy": "2021-04-24T06:09:37.026495Z",
     "iopub.status.idle": "2021-04-24T06:09:37.030601Z",
     "shell.execute_reply": "2021-04-24T06:09:37.031035Z"
    },
    "papermill": {
     "duration": 0.045255,
     "end_time": "2021-04-24T06:09:37.031193",
     "exception": false,
     "start_time": "2021-04-24T06:09:36.985938",
     "status": "completed"
    },
    "tags": []
   },
   "outputs": [
    {
     "data": {
      "text/html": [
       "<div>\n",
       "<style scoped>\n",
       "    .dataframe tbody tr th:only-of-type {\n",
       "        vertical-align: middle;\n",
       "    }\n",
       "\n",
       "    .dataframe tbody tr th {\n",
       "        vertical-align: top;\n",
       "    }\n",
       "\n",
       "    .dataframe thead th {\n",
       "        text-align: right;\n",
       "    }\n",
       "</style>\n",
       "<table border=\"1\" class=\"dataframe\">\n",
       "  <thead>\n",
       "    <tr style=\"text-align: right;\">\n",
       "      <th></th>\n",
       "      <th>id</th>\n",
       "      <th>title</th>\n",
       "      <th>author</th>\n",
       "      <th>text</th>\n",
       "    </tr>\n",
       "  </thead>\n",
       "  <tbody>\n",
       "    <tr>\n",
       "      <th>0</th>\n",
       "      <td>20800</td>\n",
       "      <td>Specter of Trump Loosens Tongues, if Not Purse...</td>\n",
       "      <td>David Streitfeld</td>\n",
       "      <td>PALO ALTO, Calif.  —   After years of scorning...</td>\n",
       "    </tr>\n",
       "    <tr>\n",
       "      <th>1</th>\n",
       "      <td>20801</td>\n",
       "      <td>Russian warships ready to strike terrorists ne...</td>\n",
       "      <td>NaN</td>\n",
       "      <td>Russian warships ready to strike terrorists ne...</td>\n",
       "    </tr>\n",
       "    <tr>\n",
       "      <th>2</th>\n",
       "      <td>20802</td>\n",
       "      <td>#NoDAPL: Native American Leaders Vow to Stay A...</td>\n",
       "      <td>Common Dreams</td>\n",
       "      <td>Videos #NoDAPL: Native American Leaders Vow to...</td>\n",
       "    </tr>\n",
       "    <tr>\n",
       "      <th>3</th>\n",
       "      <td>20803</td>\n",
       "      <td>Tim Tebow Will Attempt Another Comeback, This ...</td>\n",
       "      <td>Daniel Victor</td>\n",
       "      <td>If at first you don’t succeed, try a different...</td>\n",
       "    </tr>\n",
       "    <tr>\n",
       "      <th>4</th>\n",
       "      <td>20804</td>\n",
       "      <td>Keiser Report: Meme Wars (E995)</td>\n",
       "      <td>Truth Broadcast Network</td>\n",
       "      <td>42 mins ago 1 Views 0 Comments 0 Likes 'For th...</td>\n",
       "    </tr>\n",
       "  </tbody>\n",
       "</table>\n",
       "</div>"
      ],
      "text/plain": [
       "      id                                              title  \\\n",
       "0  20800  Specter of Trump Loosens Tongues, if Not Purse...   \n",
       "1  20801  Russian warships ready to strike terrorists ne...   \n",
       "2  20802  #NoDAPL: Native American Leaders Vow to Stay A...   \n",
       "3  20803  Tim Tebow Will Attempt Another Comeback, This ...   \n",
       "4  20804                    Keiser Report: Meme Wars (E995)   \n",
       "\n",
       "                    author                                               text  \n",
       "0         David Streitfeld  PALO ALTO, Calif.  —   After years of scorning...  \n",
       "1                      NaN  Russian warships ready to strike terrorists ne...  \n",
       "2            Common Dreams  Videos #NoDAPL: Native American Leaders Vow to...  \n",
       "3            Daniel Victor  If at first you don’t succeed, try a different...  \n",
       "4  Truth Broadcast Network  42 mins ago 1 Views 0 Comments 0 Likes 'For th...  "
      ]
     },
     "execution_count": 3,
     "metadata": {},
     "output_type": "execute_result"
    }
   ],
   "source": [
    "test.head()"
   ]
  },
  {
   "cell_type": "code",
   "execution_count": 4,
   "id": "documented-acrobat",
   "metadata": {
    "execution": {
     "iopub.execute_input": "2021-04-24T06:09:37.096950Z",
     "iopub.status.busy": "2021-04-24T06:09:37.096112Z",
     "iopub.status.idle": "2021-04-24T06:09:37.100928Z",
     "shell.execute_reply": "2021-04-24T06:09:37.100444Z"
    },
    "papermill": {
     "duration": 0.040823,
     "end_time": "2021-04-24T06:09:37.101079",
     "exception": false,
     "start_time": "2021-04-24T06:09:37.060256",
     "status": "completed"
    },
    "tags": []
   },
   "outputs": [
    {
     "name": "stdout",
     "output_type": "stream",
     "text": [
      "There are 20800 number of rows and 5 number of columns for training.\n",
      "There are 5200 number of rows and 4 number of columns for testing.\n"
     ]
    }
   ],
   "source": [
    "# Displaying rows and columns in dataset\n",
    "print(\"There are {} number of rows and {} number of columns for training.\".format(train.shape[0],train.shape[1]))\n",
    "print(\"There are {} number of rows and {} number of columns for testing.\".format(test.shape[0],test.shape[1]))"
   ]
  },
  {
   "cell_type": "markdown",
   "id": "bound-departure",
   "metadata": {
    "papermill": {
     "duration": 0.028949,
     "end_time": "2021-04-24T06:09:37.159602",
     "exception": false,
     "start_time": "2021-04-24T06:09:37.130653",
     "status": "completed"
    },
    "tags": []
   },
   "source": [
    "**Checking Null Values**"
   ]
  },
  {
   "cell_type": "code",
   "execution_count": 5,
   "id": "tamil-horse",
   "metadata": {
    "execution": {
     "iopub.execute_input": "2021-04-24T06:09:37.231801Z",
     "iopub.status.busy": "2021-04-24T06:09:37.230875Z",
     "iopub.status.idle": "2021-04-24T06:09:37.238038Z",
     "shell.execute_reply": "2021-04-24T06:09:37.237532Z"
    },
    "papermill": {
     "duration": 0.049253,
     "end_time": "2021-04-24T06:09:37.238281",
     "exception": false,
     "start_time": "2021-04-24T06:09:37.189028",
     "status": "completed"
    },
    "tags": []
   },
   "outputs": [
    {
     "data": {
      "text/plain": [
       "id           0\n",
       "title      558\n",
       "author    1957\n",
       "text        39\n",
       "label        0\n",
       "dtype: int64"
      ]
     },
     "execution_count": 5,
     "metadata": {},
     "output_type": "execute_result"
    }
   ],
   "source": [
    "# Checking the null values in training data.\n",
    "train.isnull().sum()"
   ]
  },
  {
   "cell_type": "code",
   "execution_count": 6,
   "id": "pediatric-parameter",
   "metadata": {
    "execution": {
     "iopub.execute_input": "2021-04-24T06:09:37.307362Z",
     "iopub.status.busy": "2021-04-24T06:09:37.306474Z",
     "iopub.status.idle": "2021-04-24T06:09:37.310241Z",
     "shell.execute_reply": "2021-04-24T06:09:37.310695Z"
    },
    "papermill": {
     "duration": 0.042807,
     "end_time": "2021-04-24T06:09:37.310855",
     "exception": false,
     "start_time": "2021-04-24T06:09:37.268048",
     "status": "completed"
    },
    "tags": []
   },
   "outputs": [
    {
     "data": {
      "text/plain": [
       "id          0\n",
       "title     122\n",
       "author    503\n",
       "text        7\n",
       "dtype: int64"
      ]
     },
     "execution_count": 6,
     "metadata": {},
     "output_type": "execute_result"
    }
   ],
   "source": [
    "# Checking the null values in testing data.\n",
    "test.isnull().sum()"
   ]
  },
  {
   "cell_type": "code",
   "execution_count": 7,
   "id": "brief-honor",
   "metadata": {
    "execution": {
     "iopub.execute_input": "2021-04-24T06:09:37.384298Z",
     "iopub.status.busy": "2021-04-24T06:09:37.383308Z",
     "iopub.status.idle": "2021-04-24T06:09:37.393623Z",
     "shell.execute_reply": "2021-04-24T06:09:37.393113Z"
    },
    "papermill": {
     "duration": 0.053598,
     "end_time": "2021-04-24T06:09:37.393764",
     "exception": false,
     "start_time": "2021-04-24T06:09:37.340166",
     "status": "completed"
    },
    "tags": []
   },
   "outputs": [],
   "source": [
    "# Handling nan values in dataset using empty spaces\n",
    "def handle_nan(train_data,test_data):\n",
    "    '''Input: Data to the function containing Nan values.\n",
    "       Output : Cleaned data containing no Nan values.\n",
    "       Function: Cleaning Nan values.\n",
    "     '''\n",
    "    train = train_data.fillna(\" \")\n",
    "    test  = test_data.fillna(\" \")\n",
    "    return train,test\n",
    "\n",
    "train,test = handle_nan(train,test)\n"
   ]
  },
  {
   "cell_type": "code",
   "execution_count": 8,
   "id": "approximate-radio",
   "metadata": {
    "execution": {
     "iopub.execute_input": "2021-04-24T06:09:37.463196Z",
     "iopub.status.busy": "2021-04-24T06:09:37.462359Z",
     "iopub.status.idle": "2021-04-24T06:09:37.499005Z",
     "shell.execute_reply": "2021-04-24T06:09:37.498015Z"
    },
    "papermill": {
     "duration": 0.074502,
     "end_time": "2021-04-24T06:09:37.499162",
     "exception": false,
     "start_time": "2021-04-24T06:09:37.424660",
     "status": "completed"
    },
    "tags": []
   },
   "outputs": [],
   "source": [
    "# Creating a variable \"merged\" by merging columns \"title\" and \"author\"\n",
    "train[\"merged\"] = train[\"title\"]+\" \"+train[\"author\"]\n",
    "test[\"merged\"]  = test[\"title\"]+\" \"+test[\"author\"]"
   ]
  },
  {
   "cell_type": "code",
   "execution_count": 9,
   "id": "harmful-catalog",
   "metadata": {
    "execution": {
     "iopub.execute_input": "2021-04-24T06:09:37.568349Z",
     "iopub.status.busy": "2021-04-24T06:09:37.567217Z",
     "iopub.status.idle": "2021-04-24T06:09:37.579148Z",
     "shell.execute_reply": "2021-04-24T06:09:37.578592Z"
    },
    "papermill": {
     "duration": 0.049049,
     "end_time": "2021-04-24T06:09:37.579289",
     "exception": false,
     "start_time": "2021-04-24T06:09:37.530240",
     "status": "completed"
    },
    "tags": []
   },
   "outputs": [],
   "source": [
    "# Seperating Independent and dependent features\n",
    "X = train.drop(columns=['label'],axis=1)\n",
    "y = train['label']"
   ]
  },
  {
   "cell_type": "code",
   "execution_count": 10,
   "id": "persistent-fetish",
   "metadata": {
    "execution": {
     "iopub.execute_input": "2021-04-24T06:09:37.650672Z",
     "iopub.status.busy": "2021-04-24T06:09:37.649601Z",
     "iopub.status.idle": "2021-04-24T06:09:37.657298Z",
     "shell.execute_reply": "2021-04-24T06:09:37.657843Z"
    },
    "papermill": {
     "duration": 0.046399,
     "end_time": "2021-04-24T06:09:37.658022",
     "exception": false,
     "start_time": "2021-04-24T06:09:37.611623",
     "status": "completed"
    },
    "tags": []
   },
   "outputs": [],
   "source": [
    "# Creating One-Hot Representations\n",
    "messages = X.copy()\n",
    "messages.reset_index(inplace=True)\n",
    "messages_test = test.copy()\n",
    "messages_test.reset_index(inplace=True)"
   ]
  },
  {
   "cell_type": "markdown",
   "id": "taken-negotiation",
   "metadata": {
    "papermill": {
     "duration": 0.031333,
     "end_time": "2021-04-24T06:09:37.721583",
     "exception": false,
     "start_time": "2021-04-24T06:09:37.690250",
     "status": "completed"
    },
    "tags": []
   },
   "source": [
    "# Data Pre-processing\n",
    "**In Data Pre-processing following steps are followed:** \n",
    "**1. Firstly, all the sequences except english characters are removed from the string.**\n",
    "**2. Next, to avoid false predictions or ambiguity with upper and lowercase, all the characters in strings are converted    to lowercase.**\n",
    "**3. Next, all the sentences are tokenized into words.**\n",
    "**4. To facilitate fast processing, stemming is applied to the tokenized words.**\n",
    "**5. Next, words are joined together and stored in the corpus.**\n",
    "\n",
    "**Note: In this we have used \"merged\" column for classification task. Also, the loop inside the function runs over all the examples in the merged column.**"
   ]
  },
  {
   "cell_type": "code",
   "execution_count": 11,
   "id": "expected-neighbor",
   "metadata": {
    "execution": {
     "iopub.execute_input": "2021-04-24T06:09:37.795326Z",
     "iopub.status.busy": "2021-04-24T06:09:37.794323Z",
     "iopub.status.idle": "2021-04-24T06:10:32.250147Z",
     "shell.execute_reply": "2021-04-24T06:10:32.250689Z"
    },
    "papermill": {
     "duration": 54.497618,
     "end_time": "2021-04-24T06:10:32.250847",
     "exception": false,
     "start_time": "2021-04-24T06:09:37.753229",
     "status": "completed"
    },
    "tags": []
   },
   "outputs": [
    {
     "data": {
      "text/plain": [
       "'flynn hillari clinton big woman campu breitbart daniel j flynn'"
      ]
     },
     "execution_count": 11,
     "metadata": {},
     "output_type": "execute_result"
    }
   ],
   "source": [
    "# Performing data preprocessing on column 'title'\n",
    "from nltk.stem.porter import PorterStemmer\n",
    "ps = PorterStemmer()\n",
    "def perform_preprocess(data):\n",
    "    '''Input: Data to be processed\n",
    "       Output: Preprocessed data\n",
    "    '''\n",
    "    corpus = []\n",
    "    for i in range(0,len(data)):\n",
    "        review = re.sub('[^a-zA-Z]',' ',data['merged'][i])\n",
    "        review = review.lower()\n",
    "        review = review.split()\n",
    "        review = [ps.stem(word) for word in review if word not in stopwords.words('english')]\n",
    "        review = ' '.join(review)\n",
    "        corpus.append(review)\n",
    "    return corpus\n",
    "    \n",
    "train_corpus = perform_preprocess(messages)\n",
    "test_corpus  = perform_preprocess(messages_test)\n",
    "train_corpus[1]"
   ]
  },
  {
   "cell_type": "code",
   "execution_count": 12,
   "id": "printable-isaac",
   "metadata": {
    "execution": {
     "iopub.execute_input": "2021-04-24T06:10:32.313006Z",
     "iopub.status.busy": "2021-04-24T06:10:32.312193Z",
     "iopub.status.idle": "2021-04-24T06:10:32.315651Z",
     "shell.execute_reply": "2021-04-24T06:10:32.316046Z"
    },
    "papermill": {
     "duration": 0.037042,
     "end_time": "2021-04-24T06:10:32.316180",
     "exception": false,
     "start_time": "2021-04-24T06:10:32.279138",
     "status": "completed"
    },
    "tags": []
   },
   "outputs": [
    {
     "data": {
      "text/plain": [
       "'russian warship readi strike terrorist near aleppo'"
      ]
     },
     "execution_count": 12,
     "metadata": {},
     "output_type": "execute_result"
    }
   ],
   "source": [
    "test_corpus[1]"
   ]
  },
  {
   "cell_type": "markdown",
   "id": "pediatric-translator",
   "metadata": {
    "papermill": {
     "duration": 0.028343,
     "end_time": "2021-04-24T06:10:32.372744",
     "exception": false,
     "start_time": "2021-04-24T06:10:32.344401",
     "status": "completed"
    },
    "tags": []
   },
   "source": [
    "**Below code converts the pre-processed words to one-hot vectors in the range of vocabulary size=5000. This is done to obtain numerical feature matrix**"
   ]
  },
  {
   "cell_type": "code",
   "execution_count": 13,
   "id": "economic-allergy",
   "metadata": {
    "execution": {
     "iopub.execute_input": "2021-04-24T06:10:32.453681Z",
     "iopub.status.busy": "2021-04-24T06:10:32.448588Z",
     "iopub.status.idle": "2021-04-24T06:10:32.764062Z",
     "shell.execute_reply": "2021-04-24T06:10:32.763601Z"
    },
    "papermill": {
     "duration": 0.3634,
     "end_time": "2021-04-24T06:10:32.764200",
     "exception": false,
     "start_time": "2021-04-24T06:10:32.400800",
     "status": "completed"
    },
    "tags": []
   },
   "outputs": [],
   "source": [
    "# Converting to one-hot repr.\n",
    "vocab_size = 5000\n",
    "one_hot_train = [one_hot(word,vocab_size) for word in train_corpus]\n",
    "one_hot_test  = [one_hot(word,vocab_size) for word in test_corpus]"
   ]
  },
  {
   "cell_type": "code",
   "execution_count": 14,
   "id": "three-lemon",
   "metadata": {
    "execution": {
     "iopub.execute_input": "2021-04-24T06:10:32.825499Z",
     "iopub.status.busy": "2021-04-24T06:10:32.824956Z",
     "iopub.status.idle": "2021-04-24T06:10:32.830896Z",
     "shell.execute_reply": "2021-04-24T06:10:32.830451Z"
    },
    "papermill": {
     "duration": 0.038526,
     "end_time": "2021-04-24T06:10:32.831020",
     "exception": false,
     "start_time": "2021-04-24T06:10:32.792494",
     "status": "completed"
    },
    "tags": []
   },
   "outputs": [
    {
     "data": {
      "text/plain": [
       "[1121, 3418, 1703, 1472, 4878, 2130, 3816]"
      ]
     },
     "execution_count": 14,
     "metadata": {},
     "output_type": "execute_result"
    }
   ],
   "source": [
    "one_hot_test[1]"
   ]
  },
  {
   "cell_type": "markdown",
   "id": "enclosed-steam",
   "metadata": {
    "papermill": {
     "duration": 0.029189,
     "end_time": "2021-04-24T06:10:32.888995",
     "exception": false,
     "start_time": "2021-04-24T06:10:32.859806",
     "status": "completed"
    },
    "tags": []
   },
   "source": [
    "**Below code creates an embedding layer which applies \"pre\" padding to the one-hot encoded features with sentence length = 20. Padding is applied so that the length of every sequence in the dataset should be same.**"
   ]
  },
  {
   "cell_type": "code",
   "execution_count": 15,
   "id": "frequent-driver",
   "metadata": {
    "execution": {
     "iopub.execute_input": "2021-04-24T06:10:32.955332Z",
     "iopub.status.busy": "2021-04-24T06:10:32.954546Z",
     "iopub.status.idle": "2021-04-24T06:10:33.139938Z",
     "shell.execute_reply": "2021-04-24T06:10:33.140692Z"
    },
    "papermill": {
     "duration": 0.223139,
     "end_time": "2021-04-24T06:10:33.140894",
     "exception": false,
     "start_time": "2021-04-24T06:10:32.917755",
     "status": "completed"
    },
    "tags": []
   },
   "outputs": [
    {
     "name": "stdout",
     "output_type": "stream",
     "text": [
      "[[   0    0    0 ... 1272 3336 2171]\n",
      " [   0    0    0 ... 2597 3078 2925]\n",
      " [   0    0    0 ... 3893   61 2492]\n",
      " ...\n",
      " [   0    0    0 ...  130 1764  451]\n",
      " [   0    0    0 ... 3981 3934 3467]\n",
      " [   0    0    0 ... 4137 3875 1294]]\n"
     ]
    }
   ],
   "source": [
    "# Embedding Representation \n",
    "sent_length = 20\n",
    "embedd_docs_train = pad_sequences(one_hot_train,padding='pre',maxlen=sent_length)\n",
    "embedd_docs_test  = pad_sequences(one_hot_test,padding='pre',maxlen=sent_length)\n",
    "print(embedd_docs_train)"
   ]
  },
  {
   "cell_type": "code",
   "execution_count": 16,
   "id": "civil-teach",
   "metadata": {
    "execution": {
     "iopub.execute_input": "2021-04-24T06:10:33.212287Z",
     "iopub.status.busy": "2021-04-24T06:10:33.210668Z",
     "iopub.status.idle": "2021-04-24T06:10:33.214919Z",
     "shell.execute_reply": "2021-04-24T06:10:33.214284Z"
    },
    "papermill": {
     "duration": 0.041224,
     "end_time": "2021-04-24T06:10:33.215080",
     "exception": false,
     "start_time": "2021-04-24T06:10:33.173856",
     "status": "completed"
    },
    "tags": []
   },
   "outputs": [
    {
     "name": "stdout",
     "output_type": "stream",
     "text": [
      "[[   0    0    0 ... 1013 3875 1348]\n",
      " [   0    0    0 ... 4878 2130 3816]\n",
      " [   0    0    0 ... 1923 1504 2303]\n",
      " ...\n",
      " [   0    0    0 ... 1013 4014 3774]\n",
      " [   0    0    0 ... 1121 2342 1581]\n",
      " [   0    0    0 ... 1013  167 3092]]\n"
     ]
    }
   ],
   "source": [
    "print(embedd_docs_test)"
   ]
  },
  {
   "cell_type": "code",
   "execution_count": 17,
   "id": "therapeutic-witness",
   "metadata": {
    "execution": {
     "iopub.execute_input": "2021-04-24T06:10:33.281834Z",
     "iopub.status.busy": "2021-04-24T06:10:33.280947Z",
     "iopub.status.idle": "2021-04-24T06:10:33.285462Z",
     "shell.execute_reply": "2021-04-24T06:10:33.285039Z"
    },
    "papermill": {
     "duration": 0.039306,
     "end_time": "2021-04-24T06:10:33.285599",
     "exception": false,
     "start_time": "2021-04-24T06:10:33.246293",
     "status": "completed"
    },
    "tags": []
   },
   "outputs": [],
   "source": [
    "# Converting Embedding repr. to array\n",
    "x_final = np.array(embedd_docs_train)\n",
    "y_final = np.array(y)\n",
    "x_test_final = np.array(embedd_docs_test)"
   ]
  },
  {
   "cell_type": "code",
   "execution_count": 18,
   "id": "sophisticated-warehouse",
   "metadata": {
    "execution": {
     "iopub.execute_input": "2021-04-24T06:10:33.351976Z",
     "iopub.status.busy": "2021-04-24T06:10:33.351288Z",
     "iopub.status.idle": "2021-04-24T06:10:33.354356Z",
     "shell.execute_reply": "2021-04-24T06:10:33.354814Z"
    },
    "papermill": {
     "duration": 0.038988,
     "end_time": "2021-04-24T06:10:33.354952",
     "exception": false,
     "start_time": "2021-04-24T06:10:33.315964",
     "status": "completed"
    },
    "tags": []
   },
   "outputs": [
    {
     "data": {
      "text/plain": [
       "((20800, 20), (20800,), (5200, 20))"
      ]
     },
     "execution_count": 18,
     "metadata": {},
     "output_type": "execute_result"
    }
   ],
   "source": [
    "# Dimensions of prev. array repr.\n",
    "x_final.shape,y_final.shape,x_test_final.shape"
   ]
  },
  {
   "cell_type": "markdown",
   "id": "decimal-business",
   "metadata": {
    "papermill": {
     "duration": 0.030394,
     "end_time": "2021-04-24T06:10:33.415857",
     "exception": false,
     "start_time": "2021-04-24T06:10:33.385463",
     "status": "completed"
    },
    "tags": []
   },
   "source": [
    "**Dividing the dataset into training,validation and testing data (ratio: 80/10/10) using train_test_split technique.**"
   ]
  },
  {
   "cell_type": "code",
   "execution_count": 19,
   "id": "floppy-divide",
   "metadata": {
    "execution": {
     "iopub.execute_input": "2021-04-24T06:10:33.484108Z",
     "iopub.status.busy": "2021-04-24T06:10:33.483148Z",
     "iopub.status.idle": "2021-04-24T06:10:33.518138Z",
     "shell.execute_reply": "2021-04-24T06:10:33.517642Z"
    },
    "papermill": {
     "duration": 0.071135,
     "end_time": "2021-04-24T06:10:33.518266",
     "exception": false,
     "start_time": "2021-04-24T06:10:33.447131",
     "status": "completed"
    },
    "tags": []
   },
   "outputs": [],
   "source": [
    "from sklearn.model_selection import train_test_split\n",
    "x_train, x_test, y_train, y_test = train_test_split(x_final, y_final, test_size=0.1, random_state=42, stratify = y_final)\n",
    "X_train, x_valid, Y_train, y_valid = train_test_split(x_train, y_train, test_size=0.1, random_state=42, stratify = y_train)\n",
    "x_test_final = x_test_final"
   ]
  },
  {
   "cell_type": "markdown",
   "id": "outstanding-there",
   "metadata": {
    "papermill": {
     "duration": 0.030769,
     "end_time": "2021-04-24T06:10:33.580032",
     "exception": false,
     "start_time": "2021-04-24T06:10:33.549263",
     "status": "completed"
    },
    "tags": []
   },
   "source": [
    "# Creating Models\n",
    "**In this phase, several models are created and evaluated against various metrics shown using classification report.**"
   ]
  },
  {
   "cell_type": "markdown",
   "id": "colonial-dryer",
   "metadata": {
    "papermill": {
     "duration": 0.030252,
     "end_time": "2021-04-24T06:10:33.641000",
     "exception": false,
     "start_time": "2021-04-24T06:10:33.610748",
     "status": "completed"
    },
    "tags": []
   },
   "source": [
    "**1. Logistic Regresssion**"
   ]
  },
  {
   "cell_type": "code",
   "execution_count": 20,
   "id": "realistic-merchandise",
   "metadata": {
    "execution": {
     "iopub.execute_input": "2021-04-24T06:10:33.708354Z",
     "iopub.status.busy": "2021-04-24T06:10:33.707412Z",
     "iopub.status.idle": "2021-04-24T06:10:34.492276Z",
     "shell.execute_reply": "2021-04-24T06:10:34.493735Z"
    },
    "papermill": {
     "duration": 0.821975,
     "end_time": "2021-04-24T06:10:34.493942",
     "exception": false,
     "start_time": "2021-04-24T06:10:33.671967",
     "status": "completed"
    },
    "tags": []
   },
   "outputs": [
    {
     "name": "stdout",
     "output_type": "stream",
     "text": [
      "              precision    recall  f1-score   support\n",
      "\n",
      "           0       0.68      0.75      0.71      1039\n",
      "           1       0.72      0.65      0.68      1041\n",
      "\n",
      "    accuracy                           0.70      2080\n",
      "   macro avg       0.70      0.70      0.70      2080\n",
      "weighted avg       0.70      0.70      0.70      2080\n",
      "\n"
     ]
    }
   ],
   "source": [
    "model_1 = LogisticRegression(max_iter=900)\n",
    "model_1.fit(X_train,Y_train)\n",
    "pred_1 = model_1.predict(x_test)\n",
    "cr1    = classification_report(y_test,pred_1)\n",
    "print(cr1)"
   ]
  },
  {
   "cell_type": "markdown",
   "id": "western-scratch",
   "metadata": {
    "papermill": {
     "duration": 0.056264,
     "end_time": "2021-04-24T06:10:34.642128",
     "exception": false,
     "start_time": "2021-04-24T06:10:34.585864",
     "status": "completed"
    },
    "tags": []
   },
   "source": [
    "**2. Naive Bayes**"
   ]
  },
  {
   "cell_type": "code",
   "execution_count": 21,
   "id": "cognitive-respondent",
   "metadata": {
    "execution": {
     "iopub.execute_input": "2021-04-24T06:10:34.768702Z",
     "iopub.status.busy": "2021-04-24T06:10:34.767755Z",
     "iopub.status.idle": "2021-04-24T06:10:34.793854Z",
     "shell.execute_reply": "2021-04-24T06:10:34.794533Z"
    },
    "papermill": {
     "duration": 0.095847,
     "end_time": "2021-04-24T06:10:34.794783",
     "exception": false,
     "start_time": "2021-04-24T06:10:34.698936",
     "status": "completed"
    },
    "tags": []
   },
   "outputs": [
    {
     "name": "stdout",
     "output_type": "stream",
     "text": [
      "              precision    recall  f1-score   support\n",
      "\n",
      "           0       0.73      0.65      0.69      1039\n",
      "           1       0.69      0.76      0.72      1041\n",
      "\n",
      "    accuracy                           0.71      2080\n",
      "   macro avg       0.71      0.71      0.71      2080\n",
      "weighted avg       0.71      0.71      0.71      2080\n",
      "\n"
     ]
    }
   ],
   "source": [
    "model_2 = MultinomialNB()\n",
    "model_2.fit(X_train,Y_train)\n",
    "pred_2 = model_2.predict(x_test)\n",
    "cr2    = classification_report(y_test,pred_2)\n",
    "print(cr2)"
   ]
  },
  {
   "cell_type": "markdown",
   "id": "adverse-finder",
   "metadata": {
    "papermill": {
     "duration": 0.054694,
     "end_time": "2021-04-24T06:10:34.915701",
     "exception": false,
     "start_time": "2021-04-24T06:10:34.861007",
     "status": "completed"
    },
    "tags": []
   },
   "source": [
    "**3. Decision Trees**"
   ]
  },
  {
   "cell_type": "code",
   "execution_count": 22,
   "id": "parliamentary-width",
   "metadata": {
    "execution": {
     "iopub.execute_input": "2021-04-24T06:10:35.025257Z",
     "iopub.status.busy": "2021-04-24T06:10:35.024595Z",
     "iopub.status.idle": "2021-04-24T06:10:35.290849Z",
     "shell.execute_reply": "2021-04-24T06:10:35.291776Z"
    },
    "papermill": {
     "duration": 0.330978,
     "end_time": "2021-04-24T06:10:35.291966",
     "exception": false,
     "start_time": "2021-04-24T06:10:34.960988",
     "status": "completed"
    },
    "tags": []
   },
   "outputs": [
    {
     "name": "stdout",
     "output_type": "stream",
     "text": [
      "              precision    recall  f1-score   support\n",
      "\n",
      "           0       0.92      0.93      0.92      1039\n",
      "           1       0.93      0.92      0.92      1041\n",
      "\n",
      "    accuracy                           0.92      2080\n",
      "   macro avg       0.92      0.92      0.92      2080\n",
      "weighted avg       0.92      0.92      0.92      2080\n",
      "\n"
     ]
    }
   ],
   "source": [
    "model_3 = DecisionTreeClassifier()\n",
    "model_3.fit(X_train,Y_train)\n",
    "pred_3 = model_3.predict(x_test)\n",
    "cr3    = classification_report(y_test,pred_3)\n",
    "print(cr3)"
   ]
  },
  {
   "cell_type": "markdown",
   "id": "retired-tobago",
   "metadata": {
    "papermill": {
     "duration": 0.048039,
     "end_time": "2021-04-24T06:10:35.389617",
     "exception": false,
     "start_time": "2021-04-24T06:10:35.341578",
     "status": "completed"
    },
    "tags": []
   },
   "source": [
    "**4. Random Forest**"
   ]
  },
  {
   "cell_type": "code",
   "execution_count": 23,
   "id": "built-bargain",
   "metadata": {
    "execution": {
     "iopub.execute_input": "2021-04-24T06:10:35.497352Z",
     "iopub.status.busy": "2021-04-24T06:10:35.496635Z",
     "iopub.status.idle": "2021-04-24T06:10:38.616737Z",
     "shell.execute_reply": "2021-04-24T06:10:38.616078Z"
    },
    "papermill": {
     "duration": 3.178312,
     "end_time": "2021-04-24T06:10:38.616901",
     "exception": false,
     "start_time": "2021-04-24T06:10:35.438589",
     "status": "completed"
    },
    "tags": []
   },
   "outputs": [
    {
     "name": "stdout",
     "output_type": "stream",
     "text": [
      "              precision    recall  f1-score   support\n",
      "\n",
      "           0       0.97      0.87      0.92      1039\n",
      "           1       0.88      0.97      0.92      1041\n",
      "\n",
      "    accuracy                           0.92      2080\n",
      "   macro avg       0.92      0.92      0.92      2080\n",
      "weighted avg       0.92      0.92      0.92      2080\n",
      "\n"
     ]
    }
   ],
   "source": [
    "model_4 = RandomForestClassifier()\n",
    "model_4.fit(X_train,Y_train)\n",
    "pred_4 = model_4.predict(x_test)\n",
    "cr4    = classification_report(y_test,pred_4)\n",
    "print(cr4)"
   ]
  },
  {
   "cell_type": "markdown",
   "id": "developmental-cornwall",
   "metadata": {
    "papermill": {
     "duration": 0.052353,
     "end_time": "2021-04-24T06:10:38.722466",
     "exception": false,
     "start_time": "2021-04-24T06:10:38.670113",
     "status": "completed"
    },
    "tags": []
   },
   "source": [
    "**5. XGBOOST**"
   ]
  },
  {
   "cell_type": "code",
   "execution_count": 24,
   "id": "congressional-berlin",
   "metadata": {
    "execution": {
     "iopub.execute_input": "2021-04-24T06:10:38.834684Z",
     "iopub.status.busy": "2021-04-24T06:10:38.833993Z",
     "iopub.status.idle": "2021-04-24T06:10:44.681315Z",
     "shell.execute_reply": "2021-04-24T06:10:44.681834Z"
    },
    "papermill": {
     "duration": 5.907179,
     "end_time": "2021-04-24T06:10:44.682012",
     "exception": false,
     "start_time": "2021-04-24T06:10:38.774833",
     "status": "completed"
    },
    "tags": []
   },
   "outputs": [
    {
     "name": "stdout",
     "output_type": "stream",
     "text": [
      "              precision    recall  f1-score   support\n",
      "\n",
      "           0       0.99      0.97      0.98      1039\n",
      "           1       0.97      0.99      0.98      1041\n",
      "\n",
      "    accuracy                           0.98      2080\n",
      "   macro avg       0.98      0.98      0.98      2080\n",
      "weighted avg       0.98      0.98      0.98      2080\n",
      "\n"
     ]
    }
   ],
   "source": [
    "model_5 = XGBClassifier()\n",
    "model_5.fit(X_train,Y_train)\n",
    "pred_5 = model_5.predict(x_test)\n",
    "cr5    = classification_report(y_test,pred_5)\n",
    "print(cr5)"
   ]
  },
  {
   "cell_type": "markdown",
   "id": "filled-charity",
   "metadata": {
    "papermill": {
     "duration": 0.033318,
     "end_time": "2021-04-24T06:10:44.749736",
     "exception": false,
     "start_time": "2021-04-24T06:10:44.716418",
     "status": "completed"
    },
    "tags": []
   },
   "source": [
    "**6.Catboost**"
   ]
  },
  {
   "cell_type": "code",
   "execution_count": 25,
   "id": "taken-functionality",
   "metadata": {
    "execution": {
     "iopub.execute_input": "2021-04-24T06:10:44.978756Z",
     "iopub.status.busy": "2021-04-24T06:10:44.831427Z",
     "iopub.status.idle": "2021-04-24T06:10:48.010153Z",
     "shell.execute_reply": "2021-04-24T06:10:48.010658Z"
    },
    "papermill": {
     "duration": 3.227673,
     "end_time": "2021-04-24T06:10:48.010817",
     "exception": false,
     "start_time": "2021-04-24T06:10:44.783144",
     "status": "completed"
    },
    "tags": []
   },
   "outputs": [
    {
     "name": "stdout",
     "output_type": "stream",
     "text": [
      "Learning rate set to 0.150531\n",
      "0:\tlearn: 0.5821401\ttotal: 181ms\tremaining: 36s\n",
      "1:\tlearn: 0.5013769\ttotal: 196ms\tremaining: 19.4s\n",
      "2:\tlearn: 0.4525489\ttotal: 218ms\tremaining: 14.3s\n",
      "3:\tlearn: 0.4163540\ttotal: 234ms\tremaining: 11.5s\n",
      "4:\tlearn: 0.3876788\ttotal: 251ms\tremaining: 9.78s\n",
      "5:\tlearn: 0.3702749\ttotal: 267ms\tremaining: 8.62s\n",
      "6:\tlearn: 0.3580475\ttotal: 282ms\tremaining: 7.78s\n",
      "7:\tlearn: 0.3414499\ttotal: 300ms\tremaining: 7.2s\n",
      "8:\tlearn: 0.3242663\ttotal: 319ms\tremaining: 6.77s\n",
      "9:\tlearn: 0.3162929\ttotal: 335ms\tremaining: 6.37s\n",
      "10:\tlearn: 0.3081367\ttotal: 350ms\tremaining: 6.02s\n",
      "11:\tlearn: 0.3006554\ttotal: 366ms\tremaining: 5.74s\n",
      "12:\tlearn: 0.2964101\ttotal: 381ms\tremaining: 5.48s\n",
      "13:\tlearn: 0.2922909\ttotal: 397ms\tremaining: 5.27s\n",
      "14:\tlearn: 0.2867815\ttotal: 412ms\tremaining: 5.09s\n",
      "15:\tlearn: 0.2822342\ttotal: 428ms\tremaining: 4.92s\n",
      "16:\tlearn: 0.2774739\ttotal: 443ms\tremaining: 4.77s\n",
      "17:\tlearn: 0.2732895\ttotal: 458ms\tremaining: 4.63s\n",
      "18:\tlearn: 0.2703297\ttotal: 473ms\tremaining: 4.5s\n",
      "19:\tlearn: 0.2638842\ttotal: 488ms\tremaining: 4.39s\n",
      "20:\tlearn: 0.2573105\ttotal: 504ms\tremaining: 4.29s\n",
      "21:\tlearn: 0.2524858\ttotal: 519ms\tremaining: 4.2s\n",
      "22:\tlearn: 0.2503896\ttotal: 534ms\tremaining: 4.11s\n",
      "23:\tlearn: 0.2443208\ttotal: 549ms\tremaining: 4.02s\n",
      "24:\tlearn: 0.2417245\ttotal: 564ms\tremaining: 3.95s\n",
      "25:\tlearn: 0.2392370\ttotal: 580ms\tremaining: 3.88s\n",
      "26:\tlearn: 0.2377995\ttotal: 594ms\tremaining: 3.81s\n",
      "27:\tlearn: 0.2356856\ttotal: 611ms\tremaining: 3.75s\n",
      "28:\tlearn: 0.2331948\ttotal: 629ms\tremaining: 3.71s\n",
      "29:\tlearn: 0.2300505\ttotal: 645ms\tremaining: 3.65s\n",
      "30:\tlearn: 0.2293646\ttotal: 660ms\tremaining: 3.6s\n",
      "31:\tlearn: 0.2264433\ttotal: 676ms\tremaining: 3.55s\n",
      "32:\tlearn: 0.2245422\ttotal: 692ms\tremaining: 3.5s\n",
      "33:\tlearn: 0.2231223\ttotal: 708ms\tremaining: 3.46s\n",
      "34:\tlearn: 0.2214650\ttotal: 725ms\tremaining: 3.42s\n",
      "35:\tlearn: 0.2204325\ttotal: 740ms\tremaining: 3.37s\n",
      "36:\tlearn: 0.2166570\ttotal: 756ms\tremaining: 3.33s\n",
      "37:\tlearn: 0.2140126\ttotal: 771ms\tremaining: 3.29s\n",
      "38:\tlearn: 0.2117548\ttotal: 787ms\tremaining: 3.25s\n",
      "39:\tlearn: 0.2100120\ttotal: 804ms\tremaining: 3.22s\n",
      "40:\tlearn: 0.2090507\ttotal: 822ms\tremaining: 3.19s\n",
      "41:\tlearn: 0.2058971\ttotal: 839ms\tremaining: 3.15s\n",
      "42:\tlearn: 0.2039728\ttotal: 856ms\tremaining: 3.12s\n",
      "43:\tlearn: 0.2020570\ttotal: 873ms\tremaining: 3.09s\n",
      "44:\tlearn: 0.2006536\ttotal: 890ms\tremaining: 3.06s\n",
      "45:\tlearn: 0.1987157\ttotal: 916ms\tremaining: 3.07s\n",
      "46:\tlearn: 0.1961568\ttotal: 939ms\tremaining: 3.06s\n",
      "47:\tlearn: 0.1933829\ttotal: 965ms\tremaining: 3.06s\n",
      "48:\tlearn: 0.1919595\ttotal: 992ms\tremaining: 3.06s\n",
      "49:\tlearn: 0.1900481\ttotal: 1.02s\tremaining: 3.05s\n",
      "50:\tlearn: 0.1879348\ttotal: 1.05s\tremaining: 3.07s\n",
      "51:\tlearn: 0.1859987\ttotal: 1.07s\tremaining: 3.06s\n",
      "52:\tlearn: 0.1850760\ttotal: 1.09s\tremaining: 3.03s\n",
      "53:\tlearn: 0.1829672\ttotal: 1.11s\tremaining: 3.01s\n",
      "54:\tlearn: 0.1825674\ttotal: 1.13s\tremaining: 2.98s\n",
      "55:\tlearn: 0.1807856\ttotal: 1.15s\tremaining: 2.96s\n",
      "56:\tlearn: 0.1795992\ttotal: 1.17s\tremaining: 2.93s\n",
      "57:\tlearn: 0.1780882\ttotal: 1.19s\tremaining: 2.9s\n",
      "58:\tlearn: 0.1769566\ttotal: 1.2s\tremaining: 2.88s\n",
      "59:\tlearn: 0.1764792\ttotal: 1.22s\tremaining: 2.86s\n",
      "60:\tlearn: 0.1760372\ttotal: 1.24s\tremaining: 2.83s\n",
      "61:\tlearn: 0.1727666\ttotal: 1.26s\tremaining: 2.81s\n",
      "62:\tlearn: 0.1707220\ttotal: 1.28s\tremaining: 2.79s\n",
      "63:\tlearn: 0.1697363\ttotal: 1.3s\tremaining: 2.76s\n",
      "64:\tlearn: 0.1678795\ttotal: 1.32s\tremaining: 2.74s\n",
      "65:\tlearn: 0.1658204\ttotal: 1.34s\tremaining: 2.72s\n",
      "66:\tlearn: 0.1645807\ttotal: 1.36s\tremaining: 2.7s\n",
      "67:\tlearn: 0.1628463\ttotal: 1.38s\tremaining: 2.68s\n",
      "68:\tlearn: 0.1611591\ttotal: 1.41s\tremaining: 2.68s\n",
      "69:\tlearn: 0.1588144\ttotal: 1.43s\tremaining: 2.66s\n",
      "70:\tlearn: 0.1572692\ttotal: 1.46s\tremaining: 2.65s\n",
      "71:\tlearn: 0.1556776\ttotal: 1.49s\tremaining: 2.65s\n",
      "72:\tlearn: 0.1532919\ttotal: 1.51s\tremaining: 2.63s\n",
      "73:\tlearn: 0.1521422\ttotal: 1.54s\tremaining: 2.62s\n",
      "74:\tlearn: 0.1502774\ttotal: 1.57s\tremaining: 2.61s\n",
      "75:\tlearn: 0.1487537\ttotal: 1.59s\tremaining: 2.59s\n",
      "76:\tlearn: 0.1475847\ttotal: 1.61s\tremaining: 2.57s\n",
      "77:\tlearn: 0.1454980\ttotal: 1.64s\tremaining: 2.56s\n",
      "78:\tlearn: 0.1445795\ttotal: 1.67s\tremaining: 2.56s\n",
      "79:\tlearn: 0.1438380\ttotal: 1.69s\tremaining: 2.54s\n",
      "80:\tlearn: 0.1428276\ttotal: 1.71s\tremaining: 2.51s\n",
      "81:\tlearn: 0.1418706\ttotal: 1.73s\tremaining: 2.49s\n",
      "82:\tlearn: 0.1411218\ttotal: 1.75s\tremaining: 2.47s\n",
      "83:\tlearn: 0.1404996\ttotal: 1.77s\tremaining: 2.44s\n",
      "84:\tlearn: 0.1396939\ttotal: 1.79s\tremaining: 2.42s\n",
      "85:\tlearn: 0.1388793\ttotal: 1.81s\tremaining: 2.4s\n",
      "86:\tlearn: 0.1374256\ttotal: 1.83s\tremaining: 2.38s\n",
      "87:\tlearn: 0.1348629\ttotal: 1.85s\tremaining: 2.35s\n",
      "88:\tlearn: 0.1336841\ttotal: 1.87s\tremaining: 2.33s\n",
      "89:\tlearn: 0.1322438\ttotal: 1.88s\tremaining: 2.3s\n",
      "90:\tlearn: 0.1301792\ttotal: 1.9s\tremaining: 2.28s\n",
      "91:\tlearn: 0.1291044\ttotal: 1.92s\tremaining: 2.26s\n",
      "92:\tlearn: 0.1276074\ttotal: 1.94s\tremaining: 2.23s\n",
      "93:\tlearn: 0.1264390\ttotal: 1.96s\tremaining: 2.21s\n",
      "94:\tlearn: 0.1256389\ttotal: 1.98s\tremaining: 2.18s\n",
      "95:\tlearn: 0.1251206\ttotal: 1.99s\tremaining: 2.16s\n",
      "96:\tlearn: 0.1247251\ttotal: 2.01s\tremaining: 2.13s\n",
      "97:\tlearn: 0.1231826\ttotal: 2.03s\tremaining: 2.11s\n",
      "98:\tlearn: 0.1225179\ttotal: 2.04s\tremaining: 2.08s\n",
      "99:\tlearn: 0.1212413\ttotal: 2.06s\tremaining: 2.06s\n",
      "100:\tlearn: 0.1200560\ttotal: 2.08s\tremaining: 2.04s\n",
      "101:\tlearn: 0.1195280\ttotal: 2.09s\tremaining: 2.01s\n",
      "102:\tlearn: 0.1183467\ttotal: 2.11s\tremaining: 1.99s\n",
      "103:\tlearn: 0.1169356\ttotal: 2.13s\tremaining: 1.96s\n",
      "104:\tlearn: 0.1160363\ttotal: 2.14s\tremaining: 1.94s\n",
      "105:\tlearn: 0.1150883\ttotal: 2.16s\tremaining: 1.92s\n",
      "106:\tlearn: 0.1147571\ttotal: 2.18s\tremaining: 1.89s\n",
      "107:\tlearn: 0.1135848\ttotal: 2.19s\tremaining: 1.87s\n",
      "108:\tlearn: 0.1130403\ttotal: 2.21s\tremaining: 1.85s\n",
      "109:\tlearn: 0.1123861\ttotal: 2.23s\tremaining: 1.82s\n",
      "110:\tlearn: 0.1119058\ttotal: 2.24s\tremaining: 1.8s\n",
      "111:\tlearn: 0.1114951\ttotal: 2.26s\tremaining: 1.77s\n",
      "112:\tlearn: 0.1101595\ttotal: 2.27s\tremaining: 1.75s\n",
      "113:\tlearn: 0.1089246\ttotal: 2.29s\tremaining: 1.73s\n",
      "114:\tlearn: 0.1080510\ttotal: 2.31s\tremaining: 1.71s\n",
      "115:\tlearn: 0.1069910\ttotal: 2.32s\tremaining: 1.68s\n",
      "116:\tlearn: 0.1060940\ttotal: 2.35s\tremaining: 1.67s\n",
      "117:\tlearn: 0.1056091\ttotal: 2.37s\tremaining: 1.65s\n",
      "118:\tlearn: 0.1044209\ttotal: 2.38s\tremaining: 1.62s\n",
      "119:\tlearn: 0.1033327\ttotal: 2.4s\tremaining: 1.6s\n",
      "120:\tlearn: 0.1029646\ttotal: 2.42s\tremaining: 1.58s\n",
      "121:\tlearn: 0.1023707\ttotal: 2.43s\tremaining: 1.55s\n",
      "122:\tlearn: 0.1017403\ttotal: 2.45s\tremaining: 1.53s\n",
      "123:\tlearn: 0.1006916\ttotal: 2.46s\tremaining: 1.51s\n",
      "124:\tlearn: 0.0999295\ttotal: 2.48s\tremaining: 1.49s\n",
      "125:\tlearn: 0.0988622\ttotal: 2.49s\tremaining: 1.47s\n",
      "126:\tlearn: 0.0980914\ttotal: 2.51s\tremaining: 1.44s\n",
      "127:\tlearn: 0.0973758\ttotal: 2.52s\tremaining: 1.42s\n",
      "128:\tlearn: 0.0965355\ttotal: 2.54s\tremaining: 1.4s\n",
      "129:\tlearn: 0.0957061\ttotal: 2.56s\tremaining: 1.38s\n",
      "130:\tlearn: 0.0948022\ttotal: 2.57s\tremaining: 1.35s\n",
      "131:\tlearn: 0.0941626\ttotal: 2.59s\tremaining: 1.33s\n",
      "132:\tlearn: 0.0933249\ttotal: 2.6s\tremaining: 1.31s\n",
      "133:\tlearn: 0.0924090\ttotal: 2.62s\tremaining: 1.29s\n",
      "134:\tlearn: 0.0919888\ttotal: 2.63s\tremaining: 1.27s\n",
      "135:\tlearn: 0.0916012\ttotal: 2.65s\tremaining: 1.25s\n",
      "136:\tlearn: 0.0912556\ttotal: 2.66s\tremaining: 1.22s\n",
      "137:\tlearn: 0.0903446\ttotal: 2.68s\tremaining: 1.2s\n",
      "138:\tlearn: 0.0900425\ttotal: 2.69s\tremaining: 1.18s\n",
      "139:\tlearn: 0.0893314\ttotal: 2.71s\tremaining: 1.16s\n",
      "140:\tlearn: 0.0889385\ttotal: 2.73s\tremaining: 1.14s\n",
      "141:\tlearn: 0.0879880\ttotal: 2.75s\tremaining: 1.12s\n",
      "142:\tlearn: 0.0873363\ttotal: 2.76s\tremaining: 1.1s\n",
      "143:\tlearn: 0.0864307\ttotal: 2.79s\tremaining: 1.08s\n",
      "144:\tlearn: 0.0857432\ttotal: 2.83s\tremaining: 1.07s\n",
      "145:\tlearn: 0.0850414\ttotal: 2.85s\tremaining: 1.05s\n",
      "146:\tlearn: 0.0846204\ttotal: 2.87s\tremaining: 1.03s\n",
      "147:\tlearn: 0.0836431\ttotal: 2.89s\tremaining: 1.01s\n",
      "148:\tlearn: 0.0832042\ttotal: 2.91s\tremaining: 996ms\n",
      "149:\tlearn: 0.0828948\ttotal: 2.93s\tremaining: 977ms\n",
      "150:\tlearn: 0.0822495\ttotal: 2.95s\tremaining: 956ms\n",
      "151:\tlearn: 0.0815616\ttotal: 2.97s\tremaining: 937ms\n",
      "152:\tlearn: 0.0812336\ttotal: 2.98s\tremaining: 917ms\n",
      "153:\tlearn: 0.0806490\ttotal: 3s\tremaining: 897ms\n",
      "154:\tlearn: 0.0802758\ttotal: 3.02s\tremaining: 877ms\n",
      "155:\tlearn: 0.0794859\ttotal: 3.04s\tremaining: 857ms\n",
      "156:\tlearn: 0.0788386\ttotal: 3.05s\tremaining: 837ms\n",
      "157:\tlearn: 0.0786841\ttotal: 3.07s\tremaining: 816ms\n",
      "158:\tlearn: 0.0784248\ttotal: 3.09s\tremaining: 796ms\n",
      "159:\tlearn: 0.0778003\ttotal: 3.1s\tremaining: 776ms\n",
      "160:\tlearn: 0.0771089\ttotal: 3.12s\tremaining: 757ms\n",
      "161:\tlearn: 0.0766832\ttotal: 3.14s\tremaining: 737ms\n",
      "162:\tlearn: 0.0757953\ttotal: 3.16s\tremaining: 718ms\n",
      "163:\tlearn: 0.0752180\ttotal: 3.18s\tremaining: 698ms\n",
      "164:\tlearn: 0.0748420\ttotal: 3.2s\tremaining: 679ms\n"
     ]
    },
    {
     "name": "stdout",
     "output_type": "stream",
     "text": [
      "165:\tlearn: 0.0743445\ttotal: 3.22s\tremaining: 660ms\n",
      "166:\tlearn: 0.0740407\ttotal: 3.24s\tremaining: 641ms\n",
      "167:\tlearn: 0.0738952\ttotal: 3.26s\tremaining: 621ms\n",
      "168:\tlearn: 0.0736111\ttotal: 3.28s\tremaining: 601ms\n",
      "169:\tlearn: 0.0732068\ttotal: 3.3s\tremaining: 582ms\n",
      "170:\tlearn: 0.0724000\ttotal: 3.32s\tremaining: 562ms\n",
      "171:\tlearn: 0.0719623\ttotal: 3.33s\tremaining: 543ms\n",
      "172:\tlearn: 0.0718325\ttotal: 3.35s\tremaining: 523ms\n",
      "173:\tlearn: 0.0717010\ttotal: 3.37s\tremaining: 503ms\n",
      "174:\tlearn: 0.0713374\ttotal: 3.38s\tremaining: 483ms\n",
      "175:\tlearn: 0.0710057\ttotal: 3.4s\tremaining: 464ms\n",
      "176:\tlearn: 0.0706008\ttotal: 3.42s\tremaining: 444ms\n",
      "177:\tlearn: 0.0699425\ttotal: 3.43s\tremaining: 424ms\n",
      "178:\tlearn: 0.0697495\ttotal: 3.45s\tremaining: 405ms\n",
      "179:\tlearn: 0.0695976\ttotal: 3.46s\tremaining: 385ms\n",
      "180:\tlearn: 0.0692061\ttotal: 3.48s\tremaining: 366ms\n",
      "181:\tlearn: 0.0682318\ttotal: 3.5s\tremaining: 346ms\n",
      "182:\tlearn: 0.0679932\ttotal: 3.51s\tremaining: 326ms\n",
      "183:\tlearn: 0.0673562\ttotal: 3.53s\tremaining: 307ms\n",
      "184:\tlearn: 0.0667239\ttotal: 3.55s\tremaining: 288ms\n",
      "185:\tlearn: 0.0663945\ttotal: 3.56s\tremaining: 268ms\n",
      "186:\tlearn: 0.0660056\ttotal: 3.58s\tremaining: 249ms\n",
      "187:\tlearn: 0.0657781\ttotal: 3.6s\tremaining: 230ms\n",
      "188:\tlearn: 0.0655621\ttotal: 3.61s\tremaining: 210ms\n",
      "189:\tlearn: 0.0650142\ttotal: 3.63s\tremaining: 191ms\n",
      "190:\tlearn: 0.0649434\ttotal: 3.65s\tremaining: 172ms\n",
      "191:\tlearn: 0.0646533\ttotal: 3.67s\tremaining: 153ms\n",
      "192:\tlearn: 0.0643996\ttotal: 3.68s\tremaining: 134ms\n",
      "193:\tlearn: 0.0641787\ttotal: 3.7s\tremaining: 114ms\n",
      "194:\tlearn: 0.0639848\ttotal: 3.72s\tremaining: 95.3ms\n",
      "195:\tlearn: 0.0634017\ttotal: 3.73s\tremaining: 76.2ms\n",
      "196:\tlearn: 0.0632203\ttotal: 3.75s\tremaining: 57.1ms\n",
      "197:\tlearn: 0.0631431\ttotal: 3.77s\tremaining: 38.1ms\n",
      "198:\tlearn: 0.0628180\ttotal: 3.78s\tremaining: 19ms\n",
      "199:\tlearn: 0.0626678\ttotal: 3.8s\tremaining: 0us\n",
      "              precision    recall  f1-score   support\n",
      "\n",
      "           0       0.99      0.97      0.98      1039\n",
      "           1       0.97      0.99      0.98      1041\n",
      "\n",
      "    accuracy                           0.98      2080\n",
      "   macro avg       0.98      0.98      0.98      2080\n",
      "weighted avg       0.98      0.98      0.98      2080\n",
      "\n"
     ]
    }
   ],
   "source": [
    "model_6 = CatBoostClassifier(iterations=200)\n",
    "model_6.fit(X_train,Y_train)\n",
    "pred_6 = model_5.predict(x_test)\n",
    "cr6    = classification_report(y_test,pred_5)\n",
    "print(cr6)"
   ]
  },
  {
   "cell_type": "markdown",
   "id": "promotional-nurse",
   "metadata": {
    "papermill": {
     "duration": 0.039666,
     "end_time": "2021-04-24T06:10:48.090710",
     "exception": false,
     "start_time": "2021-04-24T06:10:48.051044",
     "status": "completed"
    },
    "tags": []
   },
   "source": [
    "**7. LSTM**\n",
    "\n",
    "**In this model, 1.) The value for embedding feature vectors = 40 which are target feature vectors for the embedding layer. 2.) Single LSTM Layer with 100 nodes are used. 3.)Dense Layer with 1 neuron and sigmoid activation function is used since, this is a binary classification problem. 4) Dropout technique is used to avoid overfiiting and adam optimizer is used for optimizing the loss function.**"
   ]
  },
  {
   "cell_type": "code",
   "execution_count": 26,
   "id": "abandoned-brazil",
   "metadata": {
    "execution": {
     "iopub.execute_input": "2021-04-24T06:10:48.173538Z",
     "iopub.status.busy": "2021-04-24T06:10:48.172991Z",
     "iopub.status.idle": "2021-04-24T06:10:52.521541Z",
     "shell.execute_reply": "2021-04-24T06:10:52.520930Z"
    },
    "papermill": {
     "duration": 4.391849,
     "end_time": "2021-04-24T06:10:52.521714",
     "exception": false,
     "start_time": "2021-04-24T06:10:48.129865",
     "status": "completed"
    },
    "tags": []
   },
   "outputs": [
    {
     "name": "stdout",
     "output_type": "stream",
     "text": [
      "Model: \"sequential\"\n",
      "_________________________________________________________________\n",
      " Layer (type)                Output Shape              Param #   \n",
      "=================================================================\n",
      " embedding (Embedding)       (None, 20, 40)            200000    \n",
      "                                                                 \n",
      " dropout (Dropout)           (None, 20, 40)            0         \n",
      "                                                                 \n",
      " lstm (LSTM)                 (None, 100)               56400     \n",
      "                                                                 \n",
      " dropout_1 (Dropout)         (None, 100)               0         \n",
      "                                                                 \n",
      " dense (Dense)               (None, 1)                 101       \n",
      "                                                                 \n",
      "=================================================================\n",
      "Total params: 256,501\n",
      "Trainable params: 256,501\n",
      "Non-trainable params: 0\n",
      "_________________________________________________________________\n",
      "None\n"
     ]
    }
   ],
   "source": [
    "# Creating the LSTM Model for prediction\n",
    "embedding_feature_vector = 40\n",
    "model = Sequential()\n",
    "model.add(Embedding(vocab_size,embedding_feature_vector,input_length=sent_length))\n",
    "model.add(Dropout(0.3))\n",
    "model.add(LSTM(100))\n",
    "model.add(Dropout(0.3))\n",
    "model.add(Dense(1,activation='sigmoid'))\n",
    "model.compile(loss='binary_crossentropy',optimizer='adam',metrics=['accuracy'])\n",
    "print(model.summary())"
   ]
  },
  {
   "cell_type": "code",
   "execution_count": 27,
   "id": "micro-federation",
   "metadata": {
    "execution": {
     "iopub.execute_input": "2021-04-24T06:10:52.604156Z",
     "iopub.status.busy": "2021-04-24T06:10:52.603529Z",
     "iopub.status.idle": "2021-04-24T06:11:23.118921Z",
     "shell.execute_reply": "2021-04-24T06:11:23.119348Z"
    },
    "papermill": {
     "duration": 30.559349,
     "end_time": "2021-04-24T06:11:23.119577",
     "exception": false,
     "start_time": "2021-04-24T06:10:52.560228",
     "status": "completed"
    },
    "tags": []
   },
   "outputs": [
    {
     "name": "stdout",
     "output_type": "stream",
     "text": [
      "Epoch 1/10\n",
      "264/264 [==============================] - 16s 49ms/step - loss: 0.2167 - accuracy: 0.9052 - val_loss: 0.0413 - val_accuracy: 0.9861\n",
      "Epoch 2/10\n",
      "264/264 [==============================] - 16s 59ms/step - loss: 0.0289 - accuracy: 0.9920 - val_loss: 0.0215 - val_accuracy: 0.9941\n",
      "Epoch 3/10\n",
      "264/264 [==============================] - 14s 52ms/step - loss: 0.0141 - accuracy: 0.9960 - val_loss: 0.0368 - val_accuracy: 0.9872\n",
      "Epoch 4/10\n",
      "264/264 [==============================] - 11s 41ms/step - loss: 0.0076 - accuracy: 0.9977 - val_loss: 0.0247 - val_accuracy: 0.9920\n",
      "Epoch 5/10\n",
      "264/264 [==============================] - 9s 34ms/step - loss: 0.0055 - accuracy: 0.9986 - val_loss: 0.0278 - val_accuracy: 0.9920\n",
      "Epoch 6/10\n",
      "264/264 [==============================] - 9s 35ms/step - loss: 0.0027 - accuracy: 0.9993 - val_loss: 0.0609 - val_accuracy: 0.9840\n",
      "Epoch 7/10\n",
      "264/264 [==============================] - 10s 38ms/step - loss: 0.0015 - accuracy: 0.9997 - val_loss: 0.0483 - val_accuracy: 0.9882\n",
      "Epoch 8/10\n",
      "264/264 [==============================] - 11s 43ms/step - loss: 0.0025 - accuracy: 0.9996 - val_loss: 0.0491 - val_accuracy: 0.9861\n",
      "Epoch 9/10\n",
      "264/264 [==============================] - 9s 33ms/step - loss: 0.0019 - accuracy: 0.9995 - val_loss: 0.0550 - val_accuracy: 0.9850\n",
      "Epoch 10/10\n",
      "264/264 [==============================] - 11s 40ms/step - loss: 0.0020 - accuracy: 0.9996 - val_loss: 0.0415 - val_accuracy: 0.9904\n"
     ]
    },
    {
     "data": {
      "text/plain": [
       "<keras.callbacks.History at 0x19b67739ea0>"
      ]
     },
     "execution_count": 27,
     "metadata": {},
     "output_type": "execute_result"
    }
   ],
   "source": [
    "# Training the model\n",
    "model.fit(X_train,Y_train,validation_data=(x_valid,y_valid),epochs=10,batch_size=64)"
   ]
  },
  {
   "cell_type": "code",
   "execution_count": 28,
   "id": "perceived-savings",
   "metadata": {
    "execution": {
     "iopub.execute_input": "2021-04-24T06:11:23.466355Z",
     "iopub.status.busy": "2021-04-24T06:11:23.465724Z",
     "iopub.status.idle": "2021-04-24T06:11:23.982124Z",
     "shell.execute_reply": "2021-04-24T06:11:23.981162Z"
    },
    "papermill": {
     "duration": 0.691541,
     "end_time": "2021-04-24T06:11:23.982274",
     "exception": false,
     "start_time": "2021-04-24T06:11:23.290733",
     "status": "completed"
    },
    "tags": []
   },
   "outputs": [
    {
     "name": "stdout",
     "output_type": "stream",
     "text": [
      "65/65 [==============================] - 1s 7ms/step\n",
      "              precision    recall  f1-score   support\n",
      "\n",
      "           0       0.99      0.99      0.99      1039\n",
      "           1       0.99      0.99      0.99      1041\n",
      "\n",
      "    accuracy                           0.99      2080\n",
      "   macro avg       0.99      0.99      0.99      2080\n",
      "weighted avg       0.99      0.99      0.99      2080\n",
      "\n"
     ]
    }
   ],
   "source": [
    "predictions = model.predict(x_test)\n",
    "binary_predictions = (predictions > 0.5).astype(int)\n",
    "cr = classification_report(y_test,binary_predictions)\n",
    "print(cr)"
   ]
  },
  {
   "cell_type": "markdown",
   "id": "victorian-canon",
   "metadata": {
    "papermill": {
     "duration": 0.174951,
     "end_time": "2021-04-24T06:11:24.334811",
     "exception": false,
     "start_time": "2021-04-24T06:11:24.159860",
     "status": "completed"
    },
    "tags": []
   },
   "source": [
    "# Evaluation of Models"
   ]
  },
  {
   "cell_type": "markdown",
   "id": "absent-future",
   "metadata": {
    "papermill": {
     "duration": 0.178314,
     "end_time": "2021-04-24T06:11:24.683085",
     "exception": false,
     "start_time": "2021-04-24T06:11:24.504771",
     "status": "completed"
    },
    "tags": []
   },
   "source": [
    "**Tabulating the results of various implemented models.**"
   ]
  },
  {
   "cell_type": "code",
   "execution_count": 29,
   "id": "bridal-shelter",
   "metadata": {
    "execution": {
     "iopub.execute_input": "2021-04-24T06:11:25.053970Z",
     "iopub.status.busy": "2021-04-24T06:11:25.053212Z",
     "iopub.status.idle": "2021-04-24T06:11:25.071010Z",
     "shell.execute_reply": "2021-04-24T06:11:25.070432Z"
    },
    "papermill": {
     "duration": 0.206178,
     "end_time": "2021-04-24T06:11:25.071167",
     "exception": false,
     "start_time": "2021-04-24T06:11:24.864989",
     "status": "completed"
    },
    "tags": []
   },
   "outputs": [
    {
     "data": {
      "text/html": [
       "<div>\n",
       "<style scoped>\n",
       "    .dataframe tbody tr th:only-of-type {\n",
       "        vertical-align: middle;\n",
       "    }\n",
       "\n",
       "    .dataframe tbody tr th {\n",
       "        vertical-align: top;\n",
       "    }\n",
       "\n",
       "    .dataframe thead th {\n",
       "        text-align: right;\n",
       "    }\n",
       "</style>\n",
       "<table border=\"1\" class=\"dataframe\">\n",
       "  <thead>\n",
       "    <tr style=\"text-align: right;\">\n",
       "      <th></th>\n",
       "      <th>Model</th>\n",
       "      <th>Accuracy</th>\n",
       "    </tr>\n",
       "  </thead>\n",
       "  <tbody>\n",
       "    <tr>\n",
       "      <th>0</th>\n",
       "      <td>Logistic Regression</td>\n",
       "      <td>0.699038</td>\n",
       "    </tr>\n",
       "    <tr>\n",
       "      <th>1</th>\n",
       "      <td>Naive Bayes</td>\n",
       "      <td>0.707212</td>\n",
       "    </tr>\n",
       "    <tr>\n",
       "      <th>2</th>\n",
       "      <td>Decision Tree</td>\n",
       "      <td>0.924038</td>\n",
       "    </tr>\n",
       "    <tr>\n",
       "      <th>3</th>\n",
       "      <td>Random Forest</td>\n",
       "      <td>0.920192</td>\n",
       "    </tr>\n",
       "    <tr>\n",
       "      <th>4</th>\n",
       "      <td>XGBOOST</td>\n",
       "      <td>0.980288</td>\n",
       "    </tr>\n",
       "    <tr>\n",
       "      <th>5</th>\n",
       "      <td>CatBoost</td>\n",
       "      <td>0.980288</td>\n",
       "    </tr>\n",
       "    <tr>\n",
       "      <th>6</th>\n",
       "      <td>LSTM</td>\n",
       "      <td>0.991827</td>\n",
       "    </tr>\n",
       "  </tbody>\n",
       "</table>\n",
       "</div>"
      ],
      "text/plain": [
       "                 Model  Accuracy\n",
       "0  Logistic Regression  0.699038\n",
       "1          Naive Bayes  0.707212\n",
       "2        Decision Tree  0.924038\n",
       "3        Random Forest  0.920192\n",
       "4              XGBOOST  0.980288\n",
       "5             CatBoost  0.980288\n",
       "6                 LSTM  0.991827"
      ]
     },
     "execution_count": 29,
     "metadata": {},
     "output_type": "execute_result"
    }
   ],
   "source": [
    "score_1 = accuracy_score(y_test,pred_1)\n",
    "score_2 = accuracy_score(y_test,pred_2)\n",
    "score_3 = accuracy_score(y_test,pred_3)\n",
    "score_4 = accuracy_score(y_test,pred_4)\n",
    "score_5 = accuracy_score(y_test,pred_5)\n",
    "score_6 = accuracy_score(y_test,pred_6)\n",
    "score_7 = accuracy_score(y_test,binary_predictions)\n",
    "results = pd.DataFrame([[\"Logistic Regression\",score_1],[\"Naive Bayes\",score_2],[\"Decision Tree\",score_3],\n",
    "                       [\"Random Forest\",score_4],[\"XGBOOST\",score_5],[\"CatBoost\",score_6],[\"LSTM\",score_7]],columns=[\"Model\",\"Accuracy\"])\n",
    "results"
   ]
  },
  {
   "cell_type": "markdown",
   "id": "sound-establishment",
   "metadata": {
    "papermill": {
     "duration": 0.17424,
     "end_time": "2021-04-24T06:11:25.440377",
     "exception": false,
     "start_time": "2021-04-24T06:11:25.266137",
     "status": "completed"
    },
    "tags": []
   },
   "source": [
    "**Discussion: From the above results, it appears that LSTM Model gives the highest accuracy amongst various models. Therefore, it is selected as the final model for making predictions on final testing data.**"
   ]
  },
  {
   "cell_type": "markdown",
   "id": "emerging-council",
   "metadata": {
    "papermill": {
     "duration": 0.173499,
     "end_time": "2021-04-24T06:11:25.788093",
     "exception": false,
     "start_time": "2021-04-24T06:11:25.614594",
     "status": "completed"
    },
    "tags": []
   },
   "source": [
    "**Predictions on Testing Data**"
   ]
  },
  {
   "cell_type": "code",
   "execution_count": 36,
   "id": "sustained-plastic",
   "metadata": {
    "execution": {
     "iopub.execute_input": "2021-04-24T06:11:26.161453Z",
     "iopub.status.busy": "2021-04-24T06:11:26.160513Z",
     "iopub.status.idle": "2021-04-24T06:11:26.874583Z",
     "shell.execute_reply": "2021-04-24T06:11:26.873976Z"
    },
    "papermill": {
     "duration": 0.908815,
     "end_time": "2021-04-24T06:11:26.874728",
     "exception": false,
     "start_time": "2021-04-24T06:11:25.965913",
     "status": "completed"
    },
    "tags": []
   },
   "outputs": [
    {
     "name": "stdout",
     "output_type": "stream",
     "text": [
      "163/163 [==============================] - 1s 6ms/step\n"
     ]
    }
   ],
   "source": [
    "# Making Predictions on test data\n",
    "predictions_test = pd.DataFrame(model.predict(x_test_final))\n",
    "test_id = pd.DataFrame(test[\"id\"])\n",
    "submission = pd.concat([test_id,predictions_test],axis=1)\n",
    "submission.columns = [\"id\",\"label\"]\n",
    "import numpy as np\n",
    "threshold = 0.5\n"
   ]
  },
  {
   "cell_type": "code",
   "execution_count": 37,
   "id": "clinical-purple",
   "metadata": {
    "execution": {
     "iopub.execute_input": "2021-04-24T06:11:27.233542Z",
     "iopub.status.busy": "2021-04-24T06:11:27.232471Z",
     "iopub.status.idle": "2021-04-24T06:11:27.237793Z",
     "shell.execute_reply": "2021-04-24T06:11:27.237266Z"
    },
    "papermill": {
     "duration": 0.187598,
     "end_time": "2021-04-24T06:11:27.237939",
     "exception": false,
     "start_time": "2021-04-24T06:11:27.050341",
     "status": "completed"
    },
    "tags": []
   },
   "outputs": [
    {
     "data": {
      "text/html": [
       "<div>\n",
       "<style scoped>\n",
       "    .dataframe tbody tr th:only-of-type {\n",
       "        vertical-align: middle;\n",
       "    }\n",
       "\n",
       "    .dataframe tbody tr th {\n",
       "        vertical-align: top;\n",
       "    }\n",
       "\n",
       "    .dataframe thead th {\n",
       "        text-align: right;\n",
       "    }\n",
       "</style>\n",
       "<table border=\"1\" class=\"dataframe\">\n",
       "  <thead>\n",
       "    <tr style=\"text-align: right;\">\n",
       "      <th></th>\n",
       "      <th>id</th>\n",
       "      <th>label</th>\n",
       "    </tr>\n",
       "  </thead>\n",
       "  <tbody>\n",
       "    <tr>\n",
       "      <th>0</th>\n",
       "      <td>20800</td>\n",
       "      <td>6.357431e-05</td>\n",
       "    </tr>\n",
       "    <tr>\n",
       "      <th>1</th>\n",
       "      <td>20801</td>\n",
       "      <td>9.999975e-01</td>\n",
       "    </tr>\n",
       "    <tr>\n",
       "      <th>2</th>\n",
       "      <td>20802</td>\n",
       "      <td>9.999968e-01</td>\n",
       "    </tr>\n",
       "    <tr>\n",
       "      <th>3</th>\n",
       "      <td>20803</td>\n",
       "      <td>4.833606e-07</td>\n",
       "    </tr>\n",
       "    <tr>\n",
       "      <th>4</th>\n",
       "      <td>20804</td>\n",
       "      <td>9.999893e-01</td>\n",
       "    </tr>\n",
       "  </tbody>\n",
       "</table>\n",
       "</div>"
      ],
      "text/plain": [
       "      id         label\n",
       "0  20800  6.357431e-05\n",
       "1  20801  9.999975e-01\n",
       "2  20802  9.999968e-01\n",
       "3  20803  4.833606e-07\n",
       "4  20804  9.999893e-01"
      ]
     },
     "execution_count": 37,
     "metadata": {},
     "output_type": "execute_result"
    }
   ],
   "source": [
    "submission.head()"
   ]
  },
  {
   "cell_type": "code",
   "execution_count": 38,
   "id": "3ddd7512",
   "metadata": {},
   "outputs": [
    {
     "data": {
      "text/html": [
       "<div>\n",
       "<style scoped>\n",
       "    .dataframe tbody tr th:only-of-type {\n",
       "        vertical-align: middle;\n",
       "    }\n",
       "\n",
       "    .dataframe tbody tr th {\n",
       "        vertical-align: top;\n",
       "    }\n",
       "\n",
       "    .dataframe thead th {\n",
       "        text-align: right;\n",
       "    }\n",
       "</style>\n",
       "<table border=\"1\" class=\"dataframe\">\n",
       "  <thead>\n",
       "    <tr style=\"text-align: right;\">\n",
       "      <th></th>\n",
       "      <th>id</th>\n",
       "      <th>label</th>\n",
       "    </tr>\n",
       "  </thead>\n",
       "  <tbody>\n",
       "    <tr>\n",
       "      <th>0</th>\n",
       "      <td>20800</td>\n",
       "      <td>0</td>\n",
       "    </tr>\n",
       "    <tr>\n",
       "      <th>1</th>\n",
       "      <td>20801</td>\n",
       "      <td>1</td>\n",
       "    </tr>\n",
       "    <tr>\n",
       "      <th>2</th>\n",
       "      <td>20802</td>\n",
       "      <td>1</td>\n",
       "    </tr>\n",
       "    <tr>\n",
       "      <th>3</th>\n",
       "      <td>20803</td>\n",
       "      <td>0</td>\n",
       "    </tr>\n",
       "    <tr>\n",
       "      <th>4</th>\n",
       "      <td>20804</td>\n",
       "      <td>1</td>\n",
       "    </tr>\n",
       "  </tbody>\n",
       "</table>\n",
       "</div>"
      ],
      "text/plain": [
       "      id  label\n",
       "0  20800      0\n",
       "1  20801      1\n",
       "2  20802      1\n",
       "3  20803      0\n",
       "4  20804      1"
      ]
     },
     "execution_count": 38,
     "metadata": {},
     "output_type": "execute_result"
    }
   ],
   "source": [
    "import pandas as pd\n",
    "# Define a threshold\n",
    "threshold = 0.5\n",
    "\n",
    "# Convert 'label' column to binary using the threshold\n",
    "submission['label'] = submission['label'].apply(lambda x: 1 if x >= threshold else 0)\n",
    "\n",
    "# Print the resulting DataFrame\n",
    "submission.head()\n",
    "\n"
   ]
  },
  {
   "cell_type": "code",
   "execution_count": null,
   "id": "1d635af4",
   "metadata": {},
   "outputs": [],
   "source": []
  }
 ],
 "metadata": {
  "kernelspec": {
   "display_name": "Python 3 (ipykernel)",
   "language": "python",
   "name": "python3"
  },
  "language_info": {
   "codemirror_mode": {
    "name": "ipython",
    "version": 3
   },
   "file_extension": ".py",
   "mimetype": "text/x-python",
   "name": "python",
   "nbconvert_exporter": "python",
   "pygments_lexer": "ipython3",
   "version": "3.10.9"
  },
  "papermill": {
   "default_parameters": {},
   "duration": 132.042273,
   "end_time": "2021-04-24T06:11:31.046934",
   "environment_variables": {},
   "exception": null,
   "input_path": "__notebook__.ipynb",
   "output_path": "__notebook__.ipynb",
   "parameters": {},
   "start_time": "2021-04-24T06:09:19.004661",
   "version": "2.3.3"
  }
 },
 "nbformat": 4,
 "nbformat_minor": 5
}
